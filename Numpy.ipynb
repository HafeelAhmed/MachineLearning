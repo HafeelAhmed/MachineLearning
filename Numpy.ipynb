{
 "cells": [
  {
   "cell_type": "code",
   "execution_count": 2,
   "id": "819c084a",
   "metadata": {},
   "outputs": [],
   "source": [
    "import numpy as np"
   ]
  },
  {
   "cell_type": "markdown",
   "id": "5b203832",
   "metadata": {},
   "source": [
    "## How to create a array using numpy"
   ]
  },
  {
   "cell_type": "code",
   "execution_count": 6,
   "id": "aa9b3d41",
   "metadata": {},
   "outputs": [
    {
     "name": "stdout",
     "output_type": "stream",
     "text": [
      "[[ 2  2  3]\n",
      " [ 5  8  7]\n",
      " [ 4  5 67]]\n",
      "<class 'numpy.ndarray'>\n"
     ]
    }
   ],
   "source": [
    "array = np.array([[2,2,3],[5,8,7],[4,5,67]])\n",
    "print(array)\n",
    "print(type(array))"
   ]
  },
  {
   "cell_type": "markdown",
   "id": "93fc481a",
   "metadata": {},
   "source": [
    "## How to transpose the matrix using numpy"
   ]
  },
  {
   "cell_type": "code",
   "execution_count": 7,
   "id": "5ea7c84a",
   "metadata": {},
   "outputs": [
    {
     "name": "stdout",
     "output_type": "stream",
     "text": [
      "[[ 2  5  4]\n",
      " [ 2  8  5]\n",
      " [ 3  7 67]]\n"
     ]
    }
   ],
   "source": [
    "trans = np.transpose(array)\n",
    "print(trans)"
   ]
  },
  {
   "cell_type": "markdown",
   "id": "83895849",
   "metadata": {},
   "source": [
    "## How to flatter the matrix using the ravel function"
   ]
  },
  {
   "cell_type": "code",
   "execution_count": 9,
   "id": "21f981dc",
   "metadata": {},
   "outputs": [
    {
     "name": "stdout",
     "output_type": "stream",
     "text": [
      "[ 2  2  3  5  8  7  4  5 67]\n"
     ]
    }
   ],
   "source": [
    "flat = np.ravel(array)\n",
    "print(flat)"
   ]
  },
  {
   "cell_type": "markdown",
   "id": "22c4f569",
   "metadata": {},
   "source": [
    "## How to insert a element in a array using insert function"
   ]
  },
  {
   "cell_type": "code",
   "execution_count": 10,
   "id": "d1591792",
   "metadata": {},
   "outputs": [
    {
     "name": "stdout",
     "output_type": "stream",
     "text": [
      "[  2   2   3 600   5   8   7   4   5  67]\n"
     ]
    }
   ],
   "source": [
    "ins = np.insert(flat , 3, 600)\n",
    "print(ins)"
   ]
  },
  {
   "cell_type": "code",
   "execution_count": 5,
   "id": "c5d57ce0",
   "metadata": {},
   "outputs": [
    {
     "data": {
      "text/plain": [
       "array([[0.47629241, 0.96809003, 0.10786693, 0.65537301, 0.09212366],\n",
       "       [0.79968133, 0.42360187, 0.85116834, 0.3154344 , 0.4000534 ],\n",
       "       [0.67496696, 0.84639354, 0.54233826, 0.60058888, 0.40037327],\n",
       "       [0.11318592, 0.87854557, 0.17567238, 0.38298108, 0.31935782],\n",
       "       [0.1239372 , 0.49842298, 0.87551183, 0.60744466, 0.433006  ]])"
      ]
     },
     "execution_count": 5,
     "metadata": {},
     "output_type": "execute_result"
    }
   ],
   "source": [
    "np.random.random((5,5))"
   ]
  }
 ],
 "metadata": {
  "kernelspec": {
   "display_name": "Python 3 (ipykernel)",
   "language": "python",
   "name": "python3"
  },
  "language_info": {
   "codemirror_mode": {
    "name": "ipython",
    "version": 3
   },
   "file_extension": ".py",
   "mimetype": "text/x-python",
   "name": "python",
   "nbconvert_exporter": "python",
   "pygments_lexer": "ipython3",
   "version": "3.11.2"
  }
 },
 "nbformat": 4,
 "nbformat_minor": 5
}
